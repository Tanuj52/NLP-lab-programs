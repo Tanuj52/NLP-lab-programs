{
 "cells": [
  {
   "cell_type": "code",
   "execution_count": 2,
   "id": "d96d6a7f-27a9-43bb-a245-8e0a90a55af3",
   "metadata": {},
   "outputs": [
    {
     "name": "stdout",
     "output_type": "stream",
     "text": [
      "jumps -> jump\n",
      "jumping -> jump\n",
      "played -> play\n",
      "playing -> play\n"
     ]
    }
   ],
   "source": [
    "add_delete_table={\n",
    "    \"s\": \"\",\n",
    "    \"es\": \"\",\n",
    "    \"ed\": \"\",\n",
    "    \"ing\" : \"\",\n",
    "}\n",
    "def stem_word(word):\n",
    "    for suffix,replacement in add_delete_table.items():\n",
    "        if word.endswith(suffix):\n",
    "            return word[:-len(suffix)] + replacement\n",
    "    return word\n",
    "\n",
    "words=[\"jumps\",\"jumping\",\"played\",\"playing\"]\n",
    "\n",
    "stemmed_words = [stem_word(word) for word in words]\n",
    "\n",
    "for word, stemmed in zip(words,stemmed_words):\n",
    "    print(f\"{word} -> {stemmed}\")"
   ]
  },
  {
   "cell_type": "code",
   "execution_count": null,
   "id": "b12df027-28c0-4c17-814e-b2263bfb4b3f",
   "metadata": {},
   "outputs": [],
   "source": []
  }
 ],
 "metadata": {
  "kernelspec": {
   "display_name": "Python 3 (ipykernel)",
   "language": "python",
   "name": "python3"
  },
  "language_info": {
   "codemirror_mode": {
    "name": "ipython",
    "version": 3
   },
   "file_extension": ".py",
   "mimetype": "text/x-python",
   "name": "python",
   "nbconvert_exporter": "python",
   "pygments_lexer": "ipython3",
   "version": "3.11.7"
  }
 },
 "nbformat": 4,
 "nbformat_minor": 5
}
