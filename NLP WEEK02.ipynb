{
 "cells": [
  {
   "cell_type": "code",
   "execution_count": 2,
   "id": "65e478a7-ffbe-4228-9930-0f2c915d6603",
   "metadata": {},
   "outputs": [],
   "source": [
    "word_suffixes={\n",
    "    \"talk\": [\"s\",\"ed\",\"ing\"],\n",
    "    \"run\" : [\"s\",\"er\",\"ing\"],\n",
    "    \"jump\" : [\"s\",\"ed\",\"ing\"],\n",
    "    \"play\" : [\"s\",\"er\",\"ing\"],\n",
    "}"
   ]
  },
  {
   "cell_type": "code",
   "execution_count": 3,
   "id": "7a015f84-5bc6-42be-a8ce-543efc734251",
   "metadata": {},
   "outputs": [],
   "source": [
    "def generate_word_froms(root,suffixes):\n",
    "    word_forms=[root + suffix for suffix in suffixes]\n",
    "    return word_forms"
   ]
  },
  {
   "cell_type": "code",
   "execution_count": 5,
   "id": "72a5ae49-6be6-4770-8cdc-6bd23887b62b",
   "metadata": {},
   "outputs": [
    {
     "name": "stdout",
     "output_type": "stream",
     "text": [
      "Word Forms for : 'talk':talks, talked, talking\n",
      "Word Forms for : 'run':runs, runer, runing\n",
      "Word Forms for : 'jump':jumps, jumped, jumping\n",
      "Word Forms for : 'play':plays, player, playing\n"
     ]
    }
   ],
   "source": [
    "for root, suffixes in word_suffixes.items():\n",
    "    generated_forms= generate_word_froms(root,suffixes)\n",
    "    print(f\"Word Forms for : '{root}':{', '.join(generated_forms)}\")"
   ]
  },
  {
   "cell_type": "code",
   "execution_count": null,
   "id": "103950a8-5be1-4817-9323-727af927cf18",
   "metadata": {},
   "outputs": [],
   "source": []
  }
 ],
 "metadata": {
  "kernelspec": {
   "display_name": "Python 3 (ipykernel)",
   "language": "python",
   "name": "python3"
  },
  "language_info": {
   "codemirror_mode": {
    "name": "ipython",
    "version": 3
   },
   "file_extension": ".py",
   "mimetype": "text/x-python",
   "name": "python",
   "nbconvert_exporter": "python",
   "pygments_lexer": "ipython3",
   "version": "3.11.7"
  }
 },
 "nbformat": 4,
 "nbformat_minor": 5
}
