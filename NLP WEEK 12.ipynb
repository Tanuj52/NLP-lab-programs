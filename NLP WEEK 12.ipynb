{
 "cells": [
  {
   "cell_type": "code",
   "execution_count": null,
   "id": "7fcf0868-ae42-4728-8475-ff811c19333c",
   "metadata": {},
   "outputs": [
    {
     "name": "stdout",
     "output_type": "stream",
     "text": [
      "(S\n",
      "  (NP the/DT cat/NN)\n",
      "  chased/VBD\n",
      "  (NP the/DT mouse/NN)\n",
      "  in/IN\n",
      "  (NP the/DT garden/NN))\n"
     ]
    }
   ],
   "source": [
    "import nltk\n",
    "sentence=\"the cat chased the mouse in the garden\"\n",
    "tokens=nltk.word_tokenize(sentence)\n",
    "tagged=nltk.pos_tag(tokens)\n",
    "pattern=\"NP:{ <DT> ? <JJ> * <NN> }\"\n",
    "chunk_parser=nltk.RegexpParser(pattern)\n",
    "chunked_sentence=chunk_parser.parse(tagged)\n",
    "print(chunked_sentence)\n",
    "chunked_sentence.draw()"
   ]
  },
  {
   "cell_type": "code",
   "execution_count": 5,
   "id": "92724ce7-9cb7-441e-ad3c-123f145acaa8",
   "metadata": {},
   "outputs": [
    {
     "name": "stdout",
     "output_type": "stream",
     "text": [
      "(S\n",
      "  (NP (Det the) (N dog))\n",
      "  (VP\n",
      "    (V chased)\n",
      "    (NP (NP (Det the) (N cat)) (PP (P in) (NP (Det the) (N park))))))\n"
     ]
    },
    {
     "ename": "RecursionError",
     "evalue": "maximum recursion depth exceeded",
     "output_type": "error",
     "traceback": [
      "\u001b[0;31m---------------------------------------------------------------------------\u001b[0m",
      "\u001b[0;31mRecursionError\u001b[0m                            Traceback (most recent call last)",
      "Cell \u001b[0;32mIn[5], line 20\u001b[0m\n\u001b[1;32m      7\u001b[0m grammer\u001b[38;5;241m=\u001b[39mnltk\u001b[38;5;241m.\u001b[39mCFG\u001b[38;5;241m.\u001b[39mfromstring(\u001b[38;5;124m\"\"\"\u001b[39m\n\u001b[1;32m      8\u001b[0m \u001b[38;5;124mS -> NP VP\u001b[39m\n\u001b[1;32m      9\u001b[0m \u001b[38;5;124mNP -> Det N| NP PP\u001b[39m\n\u001b[0;32m   (...)\u001b[0m\n\u001b[1;32m     15\u001b[0m \u001b[38;5;124mP -> \u001b[39m\u001b[38;5;124m'\u001b[39m\u001b[38;5;124min\u001b[39m\u001b[38;5;124m'\u001b[39m\u001b[38;5;124m | \u001b[39m\u001b[38;5;124m'\u001b[39m\u001b[38;5;124mon\u001b[39m\u001b[38;5;124m'\u001b[39m\n\u001b[1;32m     16\u001b[0m \u001b[38;5;124m\"\"\"\u001b[39m)\n\u001b[1;32m     18\u001b[0m sentence\u001b[38;5;241m=\u001b[39m\u001b[38;5;124m\"\u001b[39m\u001b[38;5;124mthe dog chased the cat in the park\u001b[39m\u001b[38;5;124m\"\u001b[39m\n\u001b[0;32m---> 20\u001b[0m top_down_parsing(grammer,sentence)\n",
      "Cell \u001b[0;32mIn[5], line 4\u001b[0m, in \u001b[0;36mtop_down_parsing\u001b[0;34m(grammer, sentence)\u001b[0m\n\u001b[1;32m      2\u001b[0m \u001b[38;5;28;01mdef\u001b[39;00m \u001b[38;5;21mtop_down_parsing\u001b[39m(grammer,sentence):\n\u001b[1;32m      3\u001b[0m     parser\u001b[38;5;241m=\u001b[39mnltk\u001b[38;5;241m.\u001b[39mRecursiveDescentParser(grammer)\n\u001b[0;32m----> 4\u001b[0m     \u001b[38;5;28;01mfor\u001b[39;00m tree \u001b[38;5;129;01min\u001b[39;00m parser\u001b[38;5;241m.\u001b[39mparse(sentence\u001b[38;5;241m.\u001b[39msplit()):\n\u001b[1;32m      5\u001b[0m         \u001b[38;5;28mprint\u001b[39m(tree)\n",
      "File \u001b[0;32m/opt/anaconda3/lib/python3.11/site-packages/nltk/parse/recursivedescent.py:126\u001b[0m, in \u001b[0;36mRecursiveDescentParser._parse\u001b[0;34m(self, remaining_text, tree, frontier)\u001b[0m\n\u001b[1;32m    124\u001b[0m \u001b[38;5;66;03m# If the next element on the frontier is a tree, expand it.\u001b[39;00m\n\u001b[1;32m    125\u001b[0m \u001b[38;5;28;01melif\u001b[39;00m \u001b[38;5;28misinstance\u001b[39m(tree[frontier[\u001b[38;5;241m0\u001b[39m]], Tree):\n\u001b[0;32m--> 126\u001b[0m     \u001b[38;5;28;01myield from\u001b[39;00m \u001b[38;5;28mself\u001b[39m\u001b[38;5;241m.\u001b[39m_expand(remaining_text, tree, frontier)\n\u001b[1;32m    128\u001b[0m \u001b[38;5;66;03m# If the next element on the frontier is a token, match it.\u001b[39;00m\n\u001b[1;32m    129\u001b[0m \u001b[38;5;28;01melse\u001b[39;00m:\n\u001b[1;32m    130\u001b[0m     \u001b[38;5;28;01myield from\u001b[39;00m \u001b[38;5;28mself\u001b[39m\u001b[38;5;241m.\u001b[39m_match(remaining_text, tree, frontier)\n",
      "File \u001b[0;32m/opt/anaconda3/lib/python3.11/site-packages/nltk/parse/recursivedescent.py:225\u001b[0m, in \u001b[0;36mRecursiveDescentParser._expand\u001b[0;34m(self, remaining_text, tree, frontier, production)\u001b[0m\n\u001b[1;32m    223\u001b[0m \u001b[38;5;28;01mif\u001b[39;00m \u001b[38;5;28mself\u001b[39m\u001b[38;5;241m.\u001b[39m_trace:\n\u001b[1;32m    224\u001b[0m     \u001b[38;5;28mself\u001b[39m\u001b[38;5;241m.\u001b[39m_trace_expand(newtree, new_frontier, production)\n\u001b[0;32m--> 225\u001b[0m \u001b[38;5;28;01myield from\u001b[39;00m \u001b[38;5;28mself\u001b[39m\u001b[38;5;241m.\u001b[39m_parse(\n\u001b[1;32m    226\u001b[0m     remaining_text, newtree, new_frontier \u001b[38;5;241m+\u001b[39m frontier[\u001b[38;5;241m1\u001b[39m:]\n\u001b[1;32m    227\u001b[0m )\n",
      "File \u001b[0;32m/opt/anaconda3/lib/python3.11/site-packages/nltk/parse/recursivedescent.py:126\u001b[0m, in \u001b[0;36mRecursiveDescentParser._parse\u001b[0;34m(self, remaining_text, tree, frontier)\u001b[0m\n\u001b[1;32m    124\u001b[0m \u001b[38;5;66;03m# If the next element on the frontier is a tree, expand it.\u001b[39;00m\n\u001b[1;32m    125\u001b[0m \u001b[38;5;28;01melif\u001b[39;00m \u001b[38;5;28misinstance\u001b[39m(tree[frontier[\u001b[38;5;241m0\u001b[39m]], Tree):\n\u001b[0;32m--> 126\u001b[0m     \u001b[38;5;28;01myield from\u001b[39;00m \u001b[38;5;28mself\u001b[39m\u001b[38;5;241m.\u001b[39m_expand(remaining_text, tree, frontier)\n\u001b[1;32m    128\u001b[0m \u001b[38;5;66;03m# If the next element on the frontier is a token, match it.\u001b[39;00m\n\u001b[1;32m    129\u001b[0m \u001b[38;5;28;01melse\u001b[39;00m:\n\u001b[1;32m    130\u001b[0m     \u001b[38;5;28;01myield from\u001b[39;00m \u001b[38;5;28mself\u001b[39m\u001b[38;5;241m.\u001b[39m_match(remaining_text, tree, frontier)\n",
      "File \u001b[0;32m/opt/anaconda3/lib/python3.11/site-packages/nltk/parse/recursivedescent.py:225\u001b[0m, in \u001b[0;36mRecursiveDescentParser._expand\u001b[0;34m(self, remaining_text, tree, frontier, production)\u001b[0m\n\u001b[1;32m    223\u001b[0m \u001b[38;5;28;01mif\u001b[39;00m \u001b[38;5;28mself\u001b[39m\u001b[38;5;241m.\u001b[39m_trace:\n\u001b[1;32m    224\u001b[0m     \u001b[38;5;28mself\u001b[39m\u001b[38;5;241m.\u001b[39m_trace_expand(newtree, new_frontier, production)\n\u001b[0;32m--> 225\u001b[0m \u001b[38;5;28;01myield from\u001b[39;00m \u001b[38;5;28mself\u001b[39m\u001b[38;5;241m.\u001b[39m_parse(\n\u001b[1;32m    226\u001b[0m     remaining_text, newtree, new_frontier \u001b[38;5;241m+\u001b[39m frontier[\u001b[38;5;241m1\u001b[39m:]\n\u001b[1;32m    227\u001b[0m )\n",
      "    \u001b[0;31m[... skipping similar frames: RecursiveDescentParser._expand at line 225 (1 times), RecursiveDescentParser._parse at line 126 (1 times)]\u001b[0m\n",
      "File \u001b[0;32m/opt/anaconda3/lib/python3.11/site-packages/nltk/parse/recursivedescent.py:130\u001b[0m, in \u001b[0;36mRecursiveDescentParser._parse\u001b[0;34m(self, remaining_text, tree, frontier)\u001b[0m\n\u001b[1;32m    126\u001b[0m     \u001b[38;5;28;01myield from\u001b[39;00m \u001b[38;5;28mself\u001b[39m\u001b[38;5;241m.\u001b[39m_expand(remaining_text, tree, frontier)\n\u001b[1;32m    128\u001b[0m \u001b[38;5;66;03m# If the next element on the frontier is a token, match it.\u001b[39;00m\n\u001b[1;32m    129\u001b[0m \u001b[38;5;28;01melse\u001b[39;00m:\n\u001b[0;32m--> 130\u001b[0m     \u001b[38;5;28;01myield from\u001b[39;00m \u001b[38;5;28mself\u001b[39m\u001b[38;5;241m.\u001b[39m_match(remaining_text, tree, frontier)\n",
      "File \u001b[0;32m/opt/anaconda3/lib/python3.11/site-packages/nltk/parse/recursivedescent.py:168\u001b[0m, in \u001b[0;36mRecursiveDescentParser._match\u001b[0;34m(self, rtext, tree, frontier)\u001b[0m\n\u001b[1;32m    166\u001b[0m     \u001b[38;5;28;01mif\u001b[39;00m \u001b[38;5;28mself\u001b[39m\u001b[38;5;241m.\u001b[39m_trace:\n\u001b[1;32m    167\u001b[0m         \u001b[38;5;28mself\u001b[39m\u001b[38;5;241m.\u001b[39m_trace_match(newtree, frontier[\u001b[38;5;241m1\u001b[39m:], rtext[\u001b[38;5;241m0\u001b[39m])\n\u001b[0;32m--> 168\u001b[0m     \u001b[38;5;28;01myield from\u001b[39;00m \u001b[38;5;28mself\u001b[39m\u001b[38;5;241m.\u001b[39m_parse(rtext[\u001b[38;5;241m1\u001b[39m:], newtree, frontier[\u001b[38;5;241m1\u001b[39m:])\n\u001b[1;32m    169\u001b[0m \u001b[38;5;28;01melse\u001b[39;00m:\n\u001b[1;32m    170\u001b[0m     \u001b[38;5;66;03m# If it's a non-matching terminal, fail.\u001b[39;00m\n\u001b[1;32m    171\u001b[0m     \u001b[38;5;28;01mif\u001b[39;00m \u001b[38;5;28mself\u001b[39m\u001b[38;5;241m.\u001b[39m_trace:\n",
      "    \u001b[0;31m[... skipping similar frames: RecursiveDescentParser._expand at line 225 (1 times), RecursiveDescentParser._parse at line 126 (1 times)]\u001b[0m\n",
      "File \u001b[0;32m/opt/anaconda3/lib/python3.11/site-packages/nltk/parse/recursivedescent.py:130\u001b[0m, in \u001b[0;36mRecursiveDescentParser._parse\u001b[0;34m(self, remaining_text, tree, frontier)\u001b[0m\n\u001b[1;32m    126\u001b[0m     \u001b[38;5;28;01myield from\u001b[39;00m \u001b[38;5;28mself\u001b[39m\u001b[38;5;241m.\u001b[39m_expand(remaining_text, tree, frontier)\n\u001b[1;32m    128\u001b[0m \u001b[38;5;66;03m# If the next element on the frontier is a token, match it.\u001b[39;00m\n\u001b[1;32m    129\u001b[0m \u001b[38;5;28;01melse\u001b[39;00m:\n\u001b[0;32m--> 130\u001b[0m     \u001b[38;5;28;01myield from\u001b[39;00m \u001b[38;5;28mself\u001b[39m\u001b[38;5;241m.\u001b[39m_match(remaining_text, tree, frontier)\n",
      "File \u001b[0;32m/opt/anaconda3/lib/python3.11/site-packages/nltk/parse/recursivedescent.py:168\u001b[0m, in \u001b[0;36mRecursiveDescentParser._match\u001b[0;34m(self, rtext, tree, frontier)\u001b[0m\n\u001b[1;32m    166\u001b[0m     \u001b[38;5;28;01mif\u001b[39;00m \u001b[38;5;28mself\u001b[39m\u001b[38;5;241m.\u001b[39m_trace:\n\u001b[1;32m    167\u001b[0m         \u001b[38;5;28mself\u001b[39m\u001b[38;5;241m.\u001b[39m_trace_match(newtree, frontier[\u001b[38;5;241m1\u001b[39m:], rtext[\u001b[38;5;241m0\u001b[39m])\n\u001b[0;32m--> 168\u001b[0m     \u001b[38;5;28;01myield from\u001b[39;00m \u001b[38;5;28mself\u001b[39m\u001b[38;5;241m.\u001b[39m_parse(rtext[\u001b[38;5;241m1\u001b[39m:], newtree, frontier[\u001b[38;5;241m1\u001b[39m:])\n\u001b[1;32m    169\u001b[0m \u001b[38;5;28;01melse\u001b[39;00m:\n\u001b[1;32m    170\u001b[0m     \u001b[38;5;66;03m# If it's a non-matching terminal, fail.\u001b[39;00m\n\u001b[1;32m    171\u001b[0m     \u001b[38;5;28;01mif\u001b[39;00m \u001b[38;5;28mself\u001b[39m\u001b[38;5;241m.\u001b[39m_trace:\n",
      "    \u001b[0;31m[... skipping similar frames: RecursiveDescentParser._parse at line 126 (739 times), RecursiveDescentParser._expand at line 225 (738 times), RecursiveDescentParser._match at line 168 (5 times), RecursiveDescentParser._parse at line 130 (5 times)]\u001b[0m\n",
      "File \u001b[0;32m/opt/anaconda3/lib/python3.11/site-packages/nltk/parse/recursivedescent.py:225\u001b[0m, in \u001b[0;36mRecursiveDescentParser._expand\u001b[0;34m(self, remaining_text, tree, frontier, production)\u001b[0m\n\u001b[1;32m    223\u001b[0m \u001b[38;5;28;01mif\u001b[39;00m \u001b[38;5;28mself\u001b[39m\u001b[38;5;241m.\u001b[39m_trace:\n\u001b[1;32m    224\u001b[0m     \u001b[38;5;28mself\u001b[39m\u001b[38;5;241m.\u001b[39m_trace_expand(newtree, new_frontier, production)\n\u001b[0;32m--> 225\u001b[0m \u001b[38;5;28;01myield from\u001b[39;00m \u001b[38;5;28mself\u001b[39m\u001b[38;5;241m.\u001b[39m_parse(\n\u001b[1;32m    226\u001b[0m     remaining_text, newtree, new_frontier \u001b[38;5;241m+\u001b[39m frontier[\u001b[38;5;241m1\u001b[39m:]\n\u001b[1;32m    227\u001b[0m )\n",
      "File \u001b[0;32m/opt/anaconda3/lib/python3.11/site-packages/nltk/parse/recursivedescent.py:130\u001b[0m, in \u001b[0;36mRecursiveDescentParser._parse\u001b[0;34m(self, remaining_text, tree, frontier)\u001b[0m\n\u001b[1;32m    126\u001b[0m     \u001b[38;5;28;01myield from\u001b[39;00m \u001b[38;5;28mself\u001b[39m\u001b[38;5;241m.\u001b[39m_expand(remaining_text, tree, frontier)\n\u001b[1;32m    128\u001b[0m \u001b[38;5;66;03m# If the next element on the frontier is a token, match it.\u001b[39;00m\n\u001b[1;32m    129\u001b[0m \u001b[38;5;28;01melse\u001b[39;00m:\n\u001b[0;32m--> 130\u001b[0m     \u001b[38;5;28;01myield from\u001b[39;00m \u001b[38;5;28mself\u001b[39m\u001b[38;5;241m.\u001b[39m_match(remaining_text, tree, frontier)\n",
      "File \u001b[0;32m/opt/anaconda3/lib/python3.11/site-packages/nltk/parse/recursivedescent.py:168\u001b[0m, in \u001b[0;36mRecursiveDescentParser._match\u001b[0;34m(self, rtext, tree, frontier)\u001b[0m\n\u001b[1;32m    166\u001b[0m     \u001b[38;5;28;01mif\u001b[39;00m \u001b[38;5;28mself\u001b[39m\u001b[38;5;241m.\u001b[39m_trace:\n\u001b[1;32m    167\u001b[0m         \u001b[38;5;28mself\u001b[39m\u001b[38;5;241m.\u001b[39m_trace_match(newtree, frontier[\u001b[38;5;241m1\u001b[39m:], rtext[\u001b[38;5;241m0\u001b[39m])\n\u001b[0;32m--> 168\u001b[0m     \u001b[38;5;28;01myield from\u001b[39;00m \u001b[38;5;28mself\u001b[39m\u001b[38;5;241m.\u001b[39m_parse(rtext[\u001b[38;5;241m1\u001b[39m:], newtree, frontier[\u001b[38;5;241m1\u001b[39m:])\n\u001b[1;32m    169\u001b[0m \u001b[38;5;28;01melse\u001b[39;00m:\n\u001b[1;32m    170\u001b[0m     \u001b[38;5;66;03m# If it's a non-matching terminal, fail.\u001b[39;00m\n\u001b[1;32m    171\u001b[0m     \u001b[38;5;28;01mif\u001b[39;00m \u001b[38;5;28mself\u001b[39m\u001b[38;5;241m.\u001b[39m_trace:\n",
      "File \u001b[0;32m/opt/anaconda3/lib/python3.11/site-packages/nltk/parse/recursivedescent.py:126\u001b[0m, in \u001b[0;36mRecursiveDescentParser._parse\u001b[0;34m(self, remaining_text, tree, frontier)\u001b[0m\n\u001b[1;32m    124\u001b[0m \u001b[38;5;66;03m# If the next element on the frontier is a tree, expand it.\u001b[39;00m\n\u001b[1;32m    125\u001b[0m \u001b[38;5;28;01melif\u001b[39;00m \u001b[38;5;28misinstance\u001b[39m(tree[frontier[\u001b[38;5;241m0\u001b[39m]], Tree):\n\u001b[0;32m--> 126\u001b[0m     \u001b[38;5;28;01myield from\u001b[39;00m \u001b[38;5;28mself\u001b[39m\u001b[38;5;241m.\u001b[39m_expand(remaining_text, tree, frontier)\n\u001b[1;32m    128\u001b[0m \u001b[38;5;66;03m# If the next element on the frontier is a token, match it.\u001b[39;00m\n\u001b[1;32m    129\u001b[0m \u001b[38;5;28;01melse\u001b[39;00m:\n\u001b[1;32m    130\u001b[0m     \u001b[38;5;28;01myield from\u001b[39;00m \u001b[38;5;28mself\u001b[39m\u001b[38;5;241m.\u001b[39m_match(remaining_text, tree, frontier)\n",
      "File \u001b[0;32m/opt/anaconda3/lib/python3.11/site-packages/nltk/parse/recursivedescent.py:218\u001b[0m, in \u001b[0;36mRecursiveDescentParser._expand\u001b[0;34m(self, remaining_text, tree, frontier, production)\u001b[0m\n\u001b[1;32m    216\u001b[0m     newtree \u001b[38;5;241m=\u001b[39m subtree\n\u001b[1;32m    217\u001b[0m \u001b[38;5;28;01melse\u001b[39;00m:\n\u001b[0;32m--> 218\u001b[0m     newtree \u001b[38;5;241m=\u001b[39m tree\u001b[38;5;241m.\u001b[39mcopy(deep\u001b[38;5;241m=\u001b[39m\u001b[38;5;28;01mTrue\u001b[39;00m)\n\u001b[1;32m    219\u001b[0m     newtree[frontier[\u001b[38;5;241m0\u001b[39m]] \u001b[38;5;241m=\u001b[39m subtree\n\u001b[1;32m    220\u001b[0m new_frontier \u001b[38;5;241m=\u001b[39m [\n\u001b[1;32m    221\u001b[0m     frontier[\u001b[38;5;241m0\u001b[39m] \u001b[38;5;241m+\u001b[39m (i,) \u001b[38;5;28;01mfor\u001b[39;00m i \u001b[38;5;129;01min\u001b[39;00m \u001b[38;5;28mrange\u001b[39m(\u001b[38;5;28mlen\u001b[39m(production\u001b[38;5;241m.\u001b[39mrhs()))\n\u001b[1;32m    222\u001b[0m ]\n",
      "File \u001b[0;32m/opt/anaconda3/lib/python3.11/site-packages/nltk/tree/tree.py:558\u001b[0m, in \u001b[0;36mTree.copy\u001b[0;34m(self, deep)\u001b[0m\n\u001b[1;32m    556\u001b[0m     \u001b[38;5;28;01mreturn\u001b[39;00m \u001b[38;5;28mtype\u001b[39m(\u001b[38;5;28mself\u001b[39m)(\u001b[38;5;28mself\u001b[39m\u001b[38;5;241m.\u001b[39m_label, \u001b[38;5;28mself\u001b[39m)\n\u001b[1;32m    557\u001b[0m \u001b[38;5;28;01melse\u001b[39;00m:\n\u001b[0;32m--> 558\u001b[0m     \u001b[38;5;28;01mreturn\u001b[39;00m \u001b[38;5;28mtype\u001b[39m(\u001b[38;5;28mself\u001b[39m)\u001b[38;5;241m.\u001b[39mconvert(\u001b[38;5;28mself\u001b[39m)\n",
      "File \u001b[0;32m/opt/anaconda3/lib/python3.11/site-packages/nltk/tree/tree.py:543\u001b[0m, in \u001b[0;36mTree.convert\u001b[0;34m(cls, tree)\u001b[0m\n\u001b[1;32m    534\u001b[0m \u001b[38;5;250m\u001b[39m\u001b[38;5;124;03m\"\"\"\u001b[39;00m\n\u001b[1;32m    535\u001b[0m \u001b[38;5;124;03mConvert a tree between different subtypes of Tree.  ``cls`` determines\u001b[39;00m\n\u001b[1;32m    536\u001b[0m \u001b[38;5;124;03mwhich class will be used to encode the new tree.\u001b[39;00m\n\u001b[0;32m   (...)\u001b[0m\n\u001b[1;32m    540\u001b[0m \u001b[38;5;124;03m:return: The new Tree.\u001b[39;00m\n\u001b[1;32m    541\u001b[0m \u001b[38;5;124;03m\"\"\"\u001b[39;00m\n\u001b[1;32m    542\u001b[0m \u001b[38;5;28;01mif\u001b[39;00m \u001b[38;5;28misinstance\u001b[39m(tree, Tree):\n\u001b[0;32m--> 543\u001b[0m     children \u001b[38;5;241m=\u001b[39m [\u001b[38;5;28mcls\u001b[39m\u001b[38;5;241m.\u001b[39mconvert(child) \u001b[38;5;28;01mfor\u001b[39;00m child \u001b[38;5;129;01min\u001b[39;00m tree]\n\u001b[1;32m    544\u001b[0m     \u001b[38;5;28;01mreturn\u001b[39;00m \u001b[38;5;28mcls\u001b[39m(tree\u001b[38;5;241m.\u001b[39m_label, children)\n\u001b[1;32m    545\u001b[0m \u001b[38;5;28;01melse\u001b[39;00m:\n",
      "File \u001b[0;32m/opt/anaconda3/lib/python3.11/site-packages/nltk/tree/tree.py:543\u001b[0m, in \u001b[0;36m<listcomp>\u001b[0;34m(.0)\u001b[0m\n\u001b[1;32m    534\u001b[0m \u001b[38;5;250m\u001b[39m\u001b[38;5;124;03m\"\"\"\u001b[39;00m\n\u001b[1;32m    535\u001b[0m \u001b[38;5;124;03mConvert a tree between different subtypes of Tree.  ``cls`` determines\u001b[39;00m\n\u001b[1;32m    536\u001b[0m \u001b[38;5;124;03mwhich class will be used to encode the new tree.\u001b[39;00m\n\u001b[0;32m   (...)\u001b[0m\n\u001b[1;32m    540\u001b[0m \u001b[38;5;124;03m:return: The new Tree.\u001b[39;00m\n\u001b[1;32m    541\u001b[0m \u001b[38;5;124;03m\"\"\"\u001b[39;00m\n\u001b[1;32m    542\u001b[0m \u001b[38;5;28;01mif\u001b[39;00m \u001b[38;5;28misinstance\u001b[39m(tree, Tree):\n\u001b[0;32m--> 543\u001b[0m     children \u001b[38;5;241m=\u001b[39m [\u001b[38;5;28mcls\u001b[39m\u001b[38;5;241m.\u001b[39mconvert(child) \u001b[38;5;28;01mfor\u001b[39;00m child \u001b[38;5;129;01min\u001b[39;00m tree]\n\u001b[1;32m    544\u001b[0m     \u001b[38;5;28;01mreturn\u001b[39;00m \u001b[38;5;28mcls\u001b[39m(tree\u001b[38;5;241m.\u001b[39m_label, children)\n\u001b[1;32m    545\u001b[0m \u001b[38;5;28;01melse\u001b[39;00m:\n",
      "File \u001b[0;32m/opt/anaconda3/lib/python3.11/site-packages/nltk/tree/tree.py:543\u001b[0m, in \u001b[0;36mTree.convert\u001b[0;34m(cls, tree)\u001b[0m\n\u001b[1;32m    534\u001b[0m \u001b[38;5;250m\u001b[39m\u001b[38;5;124;03m\"\"\"\u001b[39;00m\n\u001b[1;32m    535\u001b[0m \u001b[38;5;124;03mConvert a tree between different subtypes of Tree.  ``cls`` determines\u001b[39;00m\n\u001b[1;32m    536\u001b[0m \u001b[38;5;124;03mwhich class will be used to encode the new tree.\u001b[39;00m\n\u001b[0;32m   (...)\u001b[0m\n\u001b[1;32m    540\u001b[0m \u001b[38;5;124;03m:return: The new Tree.\u001b[39;00m\n\u001b[1;32m    541\u001b[0m \u001b[38;5;124;03m\"\"\"\u001b[39;00m\n\u001b[1;32m    542\u001b[0m \u001b[38;5;28;01mif\u001b[39;00m \u001b[38;5;28misinstance\u001b[39m(tree, Tree):\n\u001b[0;32m--> 543\u001b[0m     children \u001b[38;5;241m=\u001b[39m [\u001b[38;5;28mcls\u001b[39m\u001b[38;5;241m.\u001b[39mconvert(child) \u001b[38;5;28;01mfor\u001b[39;00m child \u001b[38;5;129;01min\u001b[39;00m tree]\n\u001b[1;32m    544\u001b[0m     \u001b[38;5;28;01mreturn\u001b[39;00m \u001b[38;5;28mcls\u001b[39m(tree\u001b[38;5;241m.\u001b[39m_label, children)\n\u001b[1;32m    545\u001b[0m \u001b[38;5;28;01melse\u001b[39;00m:\n",
      "File \u001b[0;32m/opt/anaconda3/lib/python3.11/site-packages/nltk/tree/tree.py:543\u001b[0m, in \u001b[0;36m<listcomp>\u001b[0;34m(.0)\u001b[0m\n\u001b[1;32m    534\u001b[0m \u001b[38;5;250m\u001b[39m\u001b[38;5;124;03m\"\"\"\u001b[39;00m\n\u001b[1;32m    535\u001b[0m \u001b[38;5;124;03mConvert a tree between different subtypes of Tree.  ``cls`` determines\u001b[39;00m\n\u001b[1;32m    536\u001b[0m \u001b[38;5;124;03mwhich class will be used to encode the new tree.\u001b[39;00m\n\u001b[0;32m   (...)\u001b[0m\n\u001b[1;32m    540\u001b[0m \u001b[38;5;124;03m:return: The new Tree.\u001b[39;00m\n\u001b[1;32m    541\u001b[0m \u001b[38;5;124;03m\"\"\"\u001b[39;00m\n\u001b[1;32m    542\u001b[0m \u001b[38;5;28;01mif\u001b[39;00m \u001b[38;5;28misinstance\u001b[39m(tree, Tree):\n\u001b[0;32m--> 543\u001b[0m     children \u001b[38;5;241m=\u001b[39m [\u001b[38;5;28mcls\u001b[39m\u001b[38;5;241m.\u001b[39mconvert(child) \u001b[38;5;28;01mfor\u001b[39;00m child \u001b[38;5;129;01min\u001b[39;00m tree]\n\u001b[1;32m    544\u001b[0m     \u001b[38;5;28;01mreturn\u001b[39;00m \u001b[38;5;28mcls\u001b[39m(tree\u001b[38;5;241m.\u001b[39m_label, children)\n\u001b[1;32m    545\u001b[0m \u001b[38;5;28;01melse\u001b[39;00m:\n",
      "    \u001b[0;31m[... skipping similar frames: <listcomp> at line 543 (731 times), Tree.convert at line 543 (731 times)]\u001b[0m\n",
      "File \u001b[0;32m/opt/anaconda3/lib/python3.11/site-packages/nltk/tree/tree.py:543\u001b[0m, in \u001b[0;36mTree.convert\u001b[0;34m(cls, tree)\u001b[0m\n\u001b[1;32m    534\u001b[0m \u001b[38;5;250m\u001b[39m\u001b[38;5;124;03m\"\"\"\u001b[39;00m\n\u001b[1;32m    535\u001b[0m \u001b[38;5;124;03mConvert a tree between different subtypes of Tree.  ``cls`` determines\u001b[39;00m\n\u001b[1;32m    536\u001b[0m \u001b[38;5;124;03mwhich class will be used to encode the new tree.\u001b[39;00m\n\u001b[0;32m   (...)\u001b[0m\n\u001b[1;32m    540\u001b[0m \u001b[38;5;124;03m:return: The new Tree.\u001b[39;00m\n\u001b[1;32m    541\u001b[0m \u001b[38;5;124;03m\"\"\"\u001b[39;00m\n\u001b[1;32m    542\u001b[0m \u001b[38;5;28;01mif\u001b[39;00m \u001b[38;5;28misinstance\u001b[39m(tree, Tree):\n\u001b[0;32m--> 543\u001b[0m     children \u001b[38;5;241m=\u001b[39m [\u001b[38;5;28mcls\u001b[39m\u001b[38;5;241m.\u001b[39mconvert(child) \u001b[38;5;28;01mfor\u001b[39;00m child \u001b[38;5;129;01min\u001b[39;00m tree]\n\u001b[1;32m    544\u001b[0m     \u001b[38;5;28;01mreturn\u001b[39;00m \u001b[38;5;28mcls\u001b[39m(tree\u001b[38;5;241m.\u001b[39m_label, children)\n\u001b[1;32m    545\u001b[0m \u001b[38;5;28;01melse\u001b[39;00m:\n",
      "File \u001b[0;32m/opt/anaconda3/lib/python3.11/site-packages/nltk/tree/tree.py:543\u001b[0m, in \u001b[0;36m<listcomp>\u001b[0;34m(.0)\u001b[0m\n\u001b[1;32m    534\u001b[0m \u001b[38;5;250m\u001b[39m\u001b[38;5;124;03m\"\"\"\u001b[39;00m\n\u001b[1;32m    535\u001b[0m \u001b[38;5;124;03mConvert a tree between different subtypes of Tree.  ``cls`` determines\u001b[39;00m\n\u001b[1;32m    536\u001b[0m \u001b[38;5;124;03mwhich class will be used to encode the new tree.\u001b[39;00m\n\u001b[0;32m   (...)\u001b[0m\n\u001b[1;32m    540\u001b[0m \u001b[38;5;124;03m:return: The new Tree.\u001b[39;00m\n\u001b[1;32m    541\u001b[0m \u001b[38;5;124;03m\"\"\"\u001b[39;00m\n\u001b[1;32m    542\u001b[0m \u001b[38;5;28;01mif\u001b[39;00m \u001b[38;5;28misinstance\u001b[39m(tree, Tree):\n\u001b[0;32m--> 543\u001b[0m     children \u001b[38;5;241m=\u001b[39m [\u001b[38;5;28mcls\u001b[39m\u001b[38;5;241m.\u001b[39mconvert(child) \u001b[38;5;28;01mfor\u001b[39;00m child \u001b[38;5;129;01min\u001b[39;00m tree]\n\u001b[1;32m    544\u001b[0m     \u001b[38;5;28;01mreturn\u001b[39;00m \u001b[38;5;28mcls\u001b[39m(tree\u001b[38;5;241m.\u001b[39m_label, children)\n\u001b[1;32m    545\u001b[0m \u001b[38;5;28;01melse\u001b[39;00m:\n",
      "\u001b[0;31mRecursionError\u001b[0m: maximum recursion depth exceeded"
     ]
    }
   ],
   "source": [
    "import nltk\n",
    "def top_down_parsing(grammer,sentence):\n",
    "    parser=nltk.RecursiveDescentParser(grammer)\n",
    "    for tree in parser.parse(sentence.split()):\n",
    "        print(tree)\n",
    "\n",
    "grammer=nltk.CFG.fromstring(\"\"\"\n",
    "S -> NP VP\n",
    "NP -> Det N| NP PP\n",
    "VP -> V NP | VP PP \n",
    "PP -> P NP\n",
    "Det -> 'the' | 'a'\n",
    "N -> 'dog' | 'cat' | 'man' | 'park'\n",
    "V -> 'chased' | 'saw'\n",
    "P -> 'in' | 'on'\n",
    "\"\"\")\n",
    "\n",
    "sentence=\"the dog chased the cat in the park\"\n",
    "\n",
    "top_down_parsing(grammer,sentence)"
   ]
  },
  {
   "cell_type": "code",
   "execution_count": null,
   "id": "787a5f20-e142-457c-b71b-93fe934ebedf",
   "metadata": {},
   "outputs": [],
   "source": []
  },
  {
   "cell_type": "code",
   "execution_count": null,
   "id": "feb181ef-0f81-445a-864f-51eff34250c2",
   "metadata": {},
   "outputs": [],
   "source": []
  },
  {
   "cell_type": "code",
   "execution_count": null,
   "id": "7654f5d9-c656-46c1-911d-c46500357360",
   "metadata": {},
   "outputs": [],
   "source": []
  }
 ],
 "metadata": {
  "kernelspec": {
   "display_name": "Python 3 (ipykernel)",
   "language": "python",
   "name": "python3"
  },
  "language_info": {
   "codemirror_mode": {
    "name": "ipython",
    "version": 3
   },
   "file_extension": ".py",
   "mimetype": "text/x-python",
   "name": "python",
   "nbconvert_exporter": "python",
   "pygments_lexer": "ipython3",
   "version": "3.11.7"
  }
 },
 "nbformat": 4,
 "nbformat_minor": 5
}
