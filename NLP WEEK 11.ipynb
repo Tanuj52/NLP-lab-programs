{
 "cells": [
  {
   "cell_type": "code",
   "execution_count": 11,
   "id": "cb82125a-cb7d-4bfe-92bc-7995ed14579c",
   "metadata": {},
   "outputs": [
    {
     "name": "stdout",
     "output_type": "stream",
     "text": [
      "[('the', 'DT'), ('little', 'JJ'), ('yellow', 'JJ'), ('dog', 'NN'), ('barked', 'VBD'), ('at', 'IN'), ('the', 'DT'), ('cat', 'NN')]\n",
      "(S\n",
      "  (NP the/DT little/JJ yellow/JJ dog/NN)\n",
      "  barked/VBD\n",
      "  at/IN\n",
      "  (NP the/DT cat/NN))\n"
     ]
    }
   ],
   "source": [
    "import nltk\n",
    "sentence=\"the little yellow dog barked at the cat\"\n",
    "tokens=nltk.word_tokenize(sentence)\n",
    "tagged_tokens=nltk.pos_tag(tokens)\n",
    "print(tagged_tokens)\n",
    "grammer=\"NP : { <DT> ? <JJ> * <NN>}\"\n",
    "cp=nltk.RegexpParser(grammer)\n",
    "result=cp.parse(tagged_tokens)\n",
    "print(result)\n",
    "result.draw()"
   ]
  },
  {
   "cell_type": "code",
   "execution_count": null,
   "id": "fbfae03e-8125-4847-8377-1affc1fcdf86",
   "metadata": {},
   "outputs": [],
   "source": []
  }
 ],
 "metadata": {
  "kernelspec": {
   "display_name": "Python 3 (ipykernel)",
   "language": "python",
   "name": "python3"
  },
  "language_info": {
   "codemirror_mode": {
    "name": "ipython",
    "version": 3
   },
   "file_extension": ".py",
   "mimetype": "text/x-python",
   "name": "python",
   "nbconvert_exporter": "python",
   "pygments_lexer": "ipython3",
   "version": "3.11.7"
  }
 },
 "nbformat": 4,
 "nbformat_minor": 5
}
