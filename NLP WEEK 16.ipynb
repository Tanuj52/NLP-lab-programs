{
 "cells": [
  {
   "cell_type": "code",
   "execution_count": 1,
   "id": "03e88390-3288-4331-b3db-129ab90d2ab0",
   "metadata": {
    "scrolled": true
   },
   "outputs": [
    {
     "name": "stdout",
     "output_type": "stream",
     "text": [
      "Requirement already satisfied: nltk in /opt/anaconda3/lib/python3.11/site-packages (3.8.1)\n",
      "Requirement already satisfied: click in /opt/anaconda3/lib/python3.11/site-packages (from nltk) (8.1.7)\n",
      "Requirement already satisfied: joblib in /opt/anaconda3/lib/python3.11/site-packages (from nltk) (1.2.0)\n",
      "Requirement already satisfied: regex>=2021.8.3 in /opt/anaconda3/lib/python3.11/site-packages (from nltk) (2023.10.3)\n",
      "Requirement already satisfied: tqdm in /opt/anaconda3/lib/python3.11/site-packages (from nltk) (4.65.0)\n",
      "Note: you may need to restart the kernel to use updated packages.\n"
     ]
    }
   ],
   "source": [
    "pip install nltk"
   ]
  },
  {
   "cell_type": "code",
   "execution_count": 54,
   "id": "c6373f04-49f9-4fb9-8996-306d942ea041",
   "metadata": {},
   "outputs": [
    {
     "name": "stdout",
     "output_type": "stream",
     "text": [
      "  ==> Training (5 iterations)\n",
      "\n",
      "      Iteration    Log Likelihood    Accuracy\n",
      "      ---------------------------------------\n",
      "             1          -0.69315        0.281\n",
      "             2          -0.43290        0.725\n",
      "             3          -0.35111        0.903\n",
      "             4          -0.29492        0.995\n",
      "         Final          -0.25363        1.000\n",
      "Accuracy: +1.0\n",
      "Predicted gender for John:female\n"
     ]
    }
   ],
   "source": [
    "import nltk\n",
    "from nltk.classify import MaxentClassifier\n",
    "\n",
    "names=[ (name,'male' if name.endswith('a') else 'female') for name in nltk.corpus.names.words()]\n",
    "\n",
    "def extract_features(name):\n",
    "    features={}\n",
    "    features['last_letter']=name[-1].lower()\n",
    "    features['length']=len(name)\n",
    "    return features\n",
    "\n",
    "labeled_names = [(extract_features(name), gender) for name, gender in names]\n",
    "\n",
    "cutoff = int(0.8 * len(labeled_names))\n",
    "train_data, test_data = labeled_names[:cutoff], labeled_names[cutoff:]\n",
    "classifier=MaxentClassifier.train(train_data,max_iter=5)\n",
    "accuracy=nltk.classify.accuracy(classifier,test_data)\n",
    "print(f'Accuracy: {accuracy:+1}')\n",
    "new_name='John'\n",
    "new_features=extract_features(new_name)\n",
    "print(f\"Predicted gender for {new_name}:{classifier.classify(new_features)}\")"
   ]
  },
  {
   "cell_type": "code",
   "execution_count": 37,
   "id": "bef6fd9d-b2e1-4b5b-a887-036a3d5f4e03",
   "metadata": {},
   "outputs": [],
   "source": []
  },
  {
   "cell_type": "code",
   "execution_count": 40,
   "id": "d7b4dfc2-eddd-4a91-9860-4c44d2ce1650",
   "metadata": {},
   "outputs": [],
   "source": []
  },
  {
   "cell_type": "code",
   "execution_count": 41,
   "id": "1bf339f3-076b-4780-a333-55e8b35d0f41",
   "metadata": {},
   "outputs": [
    {
     "ename": "AttributeError",
     "evalue": "'tuple' object has no attribute 'lower'",
     "output_type": "error",
     "traceback": [
      "\u001b[0;31m---------------------------------------------------------------------------\u001b[0m",
      "\u001b[0;31mAttributeError\u001b[0m                            Traceback (most recent call last)",
      "Cell \u001b[0;32mIn[41], line 1\u001b[0m\n\u001b[0;32m----> 1\u001b[0m labeled_names\u001b[38;5;241m=\u001b[39m[(extract_features(names),gender) \u001b[38;5;28;01mfor\u001b[39;00m name,gender \u001b[38;5;129;01min\u001b[39;00m names]\n",
      "Cell \u001b[0;32mIn[41], line 1\u001b[0m, in \u001b[0;36m<listcomp>\u001b[0;34m(.0)\u001b[0m\n\u001b[0;32m----> 1\u001b[0m labeled_names\u001b[38;5;241m=\u001b[39m[(extract_features(names),gender) \u001b[38;5;28;01mfor\u001b[39;00m name,gender \u001b[38;5;129;01min\u001b[39;00m names]\n",
      "Cell \u001b[0;32mIn[40], line 3\u001b[0m, in \u001b[0;36mextract_features\u001b[0;34m(name)\u001b[0m\n\u001b[1;32m      1\u001b[0m \u001b[38;5;28;01mdef\u001b[39;00m \u001b[38;5;21mextract_features\u001b[39m(name):\n\u001b[1;32m      2\u001b[0m     features\u001b[38;5;241m=\u001b[39m{}\n\u001b[0;32m----> 3\u001b[0m     features[\u001b[38;5;124m'\u001b[39m\u001b[38;5;124mlast_letter\u001b[39m\u001b[38;5;124m'\u001b[39m]\u001b[38;5;241m=\u001b[39mname[\u001b[38;5;241m-\u001b[39m\u001b[38;5;241m1\u001b[39m]\u001b[38;5;241m.\u001b[39mlower()\n\u001b[1;32m      4\u001b[0m     features[\u001b[38;5;124m'\u001b[39m\u001b[38;5;124mlength\u001b[39m\u001b[38;5;124m'\u001b[39m]\u001b[38;5;241m=\u001b[39m\u001b[38;5;28mlen\u001b[39m(name)\n\u001b[1;32m      5\u001b[0m     \u001b[38;5;28;01mreturn\u001b[39;00m features\n",
      "\u001b[0;31mAttributeError\u001b[0m: 'tuple' object has no attribute 'lower'"
     ]
    }
   ],
   "source": []
  },
  {
   "cell_type": "code",
   "execution_count": 25,
   "id": "b01460b6-90dd-4ade-834d-7bbbc0d0d90b",
   "metadata": {},
   "outputs": [],
   "source": []
  },
  {
   "cell_type": "code",
   "execution_count": 26,
   "id": "ac743e36-2743-4161-94d1-92fe7d5c7397",
   "metadata": {
    "scrolled": true
   },
   "outputs": [
    {
     "name": "stdout",
     "output_type": "stream",
     "text": [
      "  ==> Training (5 iterations)\n",
      "\n",
      "      Iteration    Log Likelihood    Accuracy\n",
      "      ---------------------------------------\n"
     ]
    },
    {
     "ename": "ZeroDivisionError",
     "evalue": "division by zero",
     "output_type": "error",
     "traceback": [
      "\u001b[0;31m---------------------------------------------------------------------------\u001b[0m",
      "\u001b[0;31mZeroDivisionError\u001b[0m                         Traceback (most recent call last)",
      "Cell \u001b[0;32mIn[26], line 1\u001b[0m\n\u001b[0;32m----> 1\u001b[0m classifier\u001b[38;5;241m=\u001b[39mMaxentClassifier\u001b[38;5;241m.\u001b[39mtrain(train_data,max_iter\u001b[38;5;241m=\u001b[39m\u001b[38;5;241m5\u001b[39m)\n",
      "File \u001b[0;32m/opt/anaconda3/lib/python3.11/site-packages/nltk/classify/maxent.py:325\u001b[0m, in \u001b[0;36mMaxentClassifier.train\u001b[0;34m(cls, train_toks, algorithm, trace, encoding, labels, gaussian_prior_sigma, **cutoffs)\u001b[0m\n\u001b[1;32m    323\u001b[0m algorithm \u001b[38;5;241m=\u001b[39m algorithm\u001b[38;5;241m.\u001b[39mlower()\n\u001b[1;32m    324\u001b[0m \u001b[38;5;28;01mif\u001b[39;00m algorithm \u001b[38;5;241m==\u001b[39m \u001b[38;5;124m\"\u001b[39m\u001b[38;5;124miis\u001b[39m\u001b[38;5;124m\"\u001b[39m:\n\u001b[0;32m--> 325\u001b[0m     \u001b[38;5;28;01mreturn\u001b[39;00m train_maxent_classifier_with_iis(\n\u001b[1;32m    326\u001b[0m         train_toks, trace, encoding, labels, \u001b[38;5;241m*\u001b[39m\u001b[38;5;241m*\u001b[39mcutoffs\n\u001b[1;32m    327\u001b[0m     )\n\u001b[1;32m    328\u001b[0m \u001b[38;5;28;01melif\u001b[39;00m algorithm \u001b[38;5;241m==\u001b[39m \u001b[38;5;124m\"\u001b[39m\u001b[38;5;124mgis\u001b[39m\u001b[38;5;124m\"\u001b[39m:\n\u001b[1;32m    329\u001b[0m     \u001b[38;5;28;01mreturn\u001b[39;00m train_maxent_classifier_with_gis(\n\u001b[1;32m    330\u001b[0m         train_toks, trace, encoding, labels, \u001b[38;5;241m*\u001b[39m\u001b[38;5;241m*\u001b[39mcutoffs\n\u001b[1;32m    331\u001b[0m     )\n",
      "File \u001b[0;32m/opt/anaconda3/lib/python3.11/site-packages/nltk/classify/maxent.py:1207\u001b[0m, in \u001b[0;36mtrain_maxent_classifier_with_iis\u001b[0;34m(train_toks, trace, encoding, labels, **cutoffs)\u001b[0m\n\u001b[1;32m   1205\u001b[0m \u001b[38;5;28;01mwhile\u001b[39;00m \u001b[38;5;28;01mTrue\u001b[39;00m:\n\u001b[1;32m   1206\u001b[0m     \u001b[38;5;28;01mif\u001b[39;00m trace \u001b[38;5;241m>\u001b[39m \u001b[38;5;241m2\u001b[39m:\n\u001b[0;32m-> 1207\u001b[0m         ll \u001b[38;5;241m=\u001b[39m cutoffchecker\u001b[38;5;241m.\u001b[39mll \u001b[38;5;129;01mor\u001b[39;00m log_likelihood(classifier, train_toks)\n\u001b[1;32m   1208\u001b[0m         acc \u001b[38;5;241m=\u001b[39m cutoffchecker\u001b[38;5;241m.\u001b[39macc \u001b[38;5;129;01mor\u001b[39;00m accuracy(classifier, train_toks)\n\u001b[1;32m   1209\u001b[0m         iternum \u001b[38;5;241m=\u001b[39m cutoffchecker\u001b[38;5;241m.\u001b[39miter\n",
      "File \u001b[0;32m/opt/anaconda3/lib/python3.11/site-packages/nltk/classify/util.py:87\u001b[0m, in \u001b[0;36mlog_likelihood\u001b[0;34m(classifier, gold)\u001b[0m\n\u001b[1;32m     85\u001b[0m results \u001b[38;5;241m=\u001b[39m classifier\u001b[38;5;241m.\u001b[39mprob_classify_many([fs \u001b[38;5;28;01mfor\u001b[39;00m (fs, l) \u001b[38;5;129;01min\u001b[39;00m gold])\n\u001b[1;32m     86\u001b[0m ll \u001b[38;5;241m=\u001b[39m [pdist\u001b[38;5;241m.\u001b[39mprob(l) \u001b[38;5;28;01mfor\u001b[39;00m ((fs, l), pdist) \u001b[38;5;129;01min\u001b[39;00m \u001b[38;5;28mzip\u001b[39m(gold, results)]\n\u001b[0;32m---> 87\u001b[0m \u001b[38;5;28;01mreturn\u001b[39;00m math\u001b[38;5;241m.\u001b[39mlog(\u001b[38;5;28msum\u001b[39m(ll) \u001b[38;5;241m/\u001b[39m \u001b[38;5;28mlen\u001b[39m(ll))\n",
      "\u001b[0;31mZeroDivisionError\u001b[0m: division by zero"
     ]
    }
   ],
   "source": []
  }
 ],
 "metadata": {
  "kernelspec": {
   "display_name": "Python 3 (ipykernel)",
   "language": "python",
   "name": "python3"
  },
  "language_info": {
   "codemirror_mode": {
    "name": "ipython",
    "version": 3
   },
   "file_extension": ".py",
   "mimetype": "text/x-python",
   "name": "python",
   "nbconvert_exporter": "python",
   "pygments_lexer": "ipython3",
   "version": "3.11.7"
  }
 },
 "nbformat": 4,
 "nbformat_minor": 5
}
