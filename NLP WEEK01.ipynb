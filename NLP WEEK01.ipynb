{
 "cells": [
  {
   "cell_type": "code",
   "execution_count": 11,
   "id": "5b61bc9e-5578-4017-b817-e5a8cdd51a00",
   "metadata": {},
   "outputs": [],
   "source": [
    "import nltk"
   ]
  },
  {
   "cell_type": "code",
   "execution_count": 12,
   "id": "cb024d04-3efa-4405-99a7-5541ac97d50a",
   "metadata": {},
   "outputs": [],
   "source": [
    "import numpy as np"
   ]
  },
  {
   "cell_type": "code",
   "execution_count": 22,
   "id": "92e24d36-6554-43d6-a766-b2f0688899d3",
   "metadata": {},
   "outputs": [
    {
     "name": "stderr",
     "output_type": "stream",
     "text": [
      "[nltk_data] Downloading package punkt to\n",
      "[nltk_data]     C:\\Users\\tkrcet\\AppData\\Roaming\\nltk_data...\n",
      "[nltk_data]   Package punkt is already up-to-date!\n"
     ]
    },
    {
     "data": {
      "text/plain": [
       "True"
      ]
     },
     "execution_count": 22,
     "metadata": {},
     "output_type": "execute_result"
    }
   ],
   "source": [
    "nltk.download(\"punkt\")"
   ]
  },
  {
   "cell_type": "code",
   "execution_count": 23,
   "id": "0d9e0288-39fc-4bce-8198-12de2c452b7d",
   "metadata": {},
   "outputs": [],
   "source": [
    "from nltk.tokenize import word_tokenize\n",
    "from nltk.tokenize import sent_tokenize"
   ]
  },
  {
   "cell_type": "code",
   "execution_count": 24,
   "id": "d68d0043-e8ae-4f97-8fce-7c90c6904844",
   "metadata": {},
   "outputs": [],
   "source": [
    "text1=\"this is the first sentence.this is the second sentence.is this third\""
   ]
  },
  {
   "cell_type": "code",
   "execution_count": 25,
   "id": "36f52cf5-f21c-40bf-9640-fd45b57520a1",
   "metadata": {},
   "outputs": [
    {
     "name": "stdout",
     "output_type": "stream",
     "text": [
      "this is the first sentence.this is the second sentence.is this third\n"
     ]
    }
   ],
   "source": [
    "print(text1)"
   ]
  },
  {
   "cell_type": "code",
   "execution_count": 26,
   "id": "4dfb8aa9-4ecf-4eda-b654-ae5839383b56",
   "metadata": {},
   "outputs": [
    {
     "data": {
      "text/plain": [
       "['this is the first sentence.this is the second sentence.is this third']"
      ]
     },
     "execution_count": 26,
     "metadata": {},
     "output_type": "execute_result"
    }
   ],
   "source": [
    "sent_tokenize(text1)"
   ]
  },
  {
   "cell_type": "code",
   "execution_count": 27,
   "id": "ec9e8055-cd43-4828-b9d3-8b8b4079e136",
   "metadata": {},
   "outputs": [
    {
     "data": {
      "text/plain": [
       "1"
      ]
     },
     "execution_count": 27,
     "metadata": {},
     "output_type": "execute_result"
    }
   ],
   "source": [
    "len(sent_tokenize(text1))"
   ]
  },
  {
   "cell_type": "code",
   "execution_count": 32,
   "id": "cc453092-7639-45c6-b462-15f59d56d156",
   "metadata": {},
   "outputs": [],
   "source": [
    "text1=\"this is the first sentence. this is the second sentence. is this third?\""
   ]
  },
  {
   "cell_type": "code",
   "execution_count": 33,
   "id": "bc0ceb61-62a2-456d-8766-b8cba550d285",
   "metadata": {},
   "outputs": [
    {
     "name": "stdout",
     "output_type": "stream",
     "text": [
      "this is the first sentence. this is the second sentence. is this third?\n"
     ]
    }
   ],
   "source": [
    "print(text1)"
   ]
  },
  {
   "cell_type": "code",
   "execution_count": 34,
   "id": "a0865891-7f66-4561-887c-6e1fbc6ef0c9",
   "metadata": {},
   "outputs": [
    {
     "data": {
      "text/plain": [
       "['this is the first sentence.',\n",
       " 'this is the second sentence.',\n",
       " 'is this third?']"
      ]
     },
     "execution_count": 34,
     "metadata": {},
     "output_type": "execute_result"
    }
   ],
   "source": [
    "sent_tokenize(text1)"
   ]
  },
  {
   "cell_type": "code",
   "execution_count": 35,
   "id": "e58e45ca-6aa3-4a12-837a-6dcc09427fab",
   "metadata": {},
   "outputs": [
    {
     "data": {
      "text/plain": [
       "3"
      ]
     },
     "execution_count": 35,
     "metadata": {},
     "output_type": "execute_result"
    }
   ],
   "source": [
    "len(sent_tokenize(text1))"
   ]
  },
  {
   "cell_type": "code",
   "execution_count": 36,
   "id": "ead567f4-7482-4222-a5a4-3cb15fb005a9",
   "metadata": {},
   "outputs": [
    {
     "data": {
      "text/plain": [
       "['this',\n",
       " 'is',\n",
       " 'the',\n",
       " 'first',\n",
       " 'sentence',\n",
       " '.',\n",
       " 'this',\n",
       " 'is',\n",
       " 'the',\n",
       " 'second',\n",
       " 'sentence',\n",
       " '.',\n",
       " 'is',\n",
       " 'this',\n",
       " 'third',\n",
       " '?']"
      ]
     },
     "execution_count": 36,
     "metadata": {},
     "output_type": "execute_result"
    }
   ],
   "source": [
    "word_tokenize(text1)"
   ]
  },
  {
   "cell_type": "code",
   "execution_count": 37,
   "id": "dc2a3169-9ef8-42f0-a62e-4435c6711306",
   "metadata": {},
   "outputs": [
    {
     "data": {
      "text/plain": [
       "16"
      ]
     },
     "execution_count": 37,
     "metadata": {},
     "output_type": "execute_result"
    }
   ],
   "source": [
    "len(word_tokenize(text1))"
   ]
  },
  {
   "cell_type": "code",
   "execution_count": 38,
   "id": "0b00bf2f-2ed0-4508-8010-628af68ab5ce",
   "metadata": {},
   "outputs": [],
   "source": [
    "word_result=word_tokenize(text1)"
   ]
  },
  {
   "cell_type": "code",
   "execution_count": 40,
   "id": "da8bb407-8ce9-4252-ab6c-a636be0d71f7",
   "metadata": {},
   "outputs": [
    {
     "name": "stdout",
     "output_type": "stream",
     "text": [
      "['this', 'is', 'the', 'first', 'sentence', '.', 'this', 'is', 'the', 'second', 'sentence', '.', 'is', 'this', 'third', '?']\n"
     ]
    }
   ],
   "source": [
    "print(word_result)"
   ]
  },
  {
   "cell_type": "code",
   "execution_count": 41,
   "id": "c3d35ebb-6bce-4fe4-ab13-bc8ca10ab52c",
   "metadata": {},
   "outputs": [
    {
     "data": {
      "text/plain": [
       "['is', 'the', 'first', 'sentence']"
      ]
     },
     "execution_count": 41,
     "metadata": {},
     "output_type": "execute_result"
    }
   ],
   "source": [
    "word_result[1:5]"
   ]
  },
  {
   "cell_type": "code",
   "execution_count": 42,
   "id": "a9a2b3e4-e9b0-4793-97ed-9d85b577c9bd",
   "metadata": {},
   "outputs": [
    {
     "data": {
      "text/plain": [
       "['this', 'is', 'the', 'first', 'sentence']"
      ]
     },
     "execution_count": 42,
     "metadata": {},
     "output_type": "execute_result"
    }
   ],
   "source": [
    "word_result[:5]"
   ]
  },
  {
   "cell_type": "code",
   "execution_count": 43,
   "id": "9100d590-1eac-4a28-a5eb-14b288ccc4dd",
   "metadata": {},
   "outputs": [],
   "source": [
    "from nltk.tokenize.punkt import PunktSentenceTokenizer"
   ]
  },
  {
   "cell_type": "code",
   "execution_count": 45,
   "id": "3e0e0ae4-0dd4-412f-8c4e-f1f7e2cc59d6",
   "metadata": {},
   "outputs": [],
   "source": [
    "pst=PunktSentenceTokenizer()"
   ]
  },
  {
   "cell_type": "code",
   "execution_count": 46,
   "id": "158e6de0-b53f-49f6-bb6c-d63f92d01eb6",
   "metadata": {},
   "outputs": [
    {
     "data": {
      "text/plain": [
       "['this is the first sentence.',\n",
       " 'this is the second sentence.',\n",
       " 'is this third?']"
      ]
     },
     "execution_count": 46,
     "metadata": {},
     "output_type": "execute_result"
    }
   ],
   "source": [
    "pst.tokenize(text1)"
   ]
  },
  {
   "cell_type": "code",
   "execution_count": 47,
   "id": "413ccb7b-c8e1-46be-b953-8f55842d3200",
   "metadata": {},
   "outputs": [
    {
     "data": {
      "text/plain": [
       "3"
      ]
     },
     "execution_count": 47,
     "metadata": {},
     "output_type": "execute_result"
    }
   ],
   "source": [
    "len(pst.tokenize(text1))"
   ]
  },
  {
   "cell_type": "code",
   "execution_count": null,
   "id": "33130161-93e1-4ce2-9730-c52a78fb4901",
   "metadata": {},
   "outputs": [],
   "source": []
  }
 ],
 "metadata": {
  "kernelspec": {
   "display_name": "Python 3 (ipykernel)",
   "language": "python",
   "name": "python3"
  },
  "language_info": {
   "codemirror_mode": {
    "name": "ipython",
    "version": 3
   },
   "file_extension": ".py",
   "mimetype": "text/x-python",
   "name": "python",
   "nbconvert_exporter": "python",
   "pygments_lexer": "ipython3",
   "version": "3.11.7"
  }
 },
 "nbformat": 4,
 "nbformat_minor": 5
}
