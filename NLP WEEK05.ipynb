{
 "cells": [
  {
   "cell_type": "code",
   "execution_count": 2,
   "id": "eeb2540b-1a87-4183-825b-37a13a8e8a5d",
   "metadata": {},
   "outputs": [
    {
     "name": "stderr",
     "output_type": "stream",
     "text": [
      "[nltk_data] Downloading package wordnet to\n",
      "[nltk_data]     C:\\Users\\tkrcet\\AppData\\Roaming\\nltk_data...\n"
     ]
    },
    {
     "name": "stdout",
     "output_type": "stream",
     "text": [
      "Original tokens: ['The', 'dogs', 'are', 'barking', 'loudly', 'outside', '.']\n",
      "Lemmatized tokens: ['The', 'dog', 'are', 'barking', 'loudly', 'outside', '.']\n"
     ]
    }
   ],
   "source": [
    "import nltk\n",
    "from nltk.stem import WordNetLemmatizer\n",
    "from nltk.tokenize import word_tokenize\n",
    "nltk.download('wordnet')\n",
    "# Sample text\n",
    "text = \"The dogs are barking loudly outside.\"\n",
    "\n",
    "# Tokenize the text\n",
    "tokens = word_tokenize(text)\n",
    "\n",
    "# Initialize WordNet lemmatizer\n",
    "lemmatizer = WordNetLemmatizer()\n",
    "\n",
    "# Lemmatize tokens\n",
    "lemmatized_tokens = [lemmatizer.lemmatize(token) for token in tokens]\n",
    "\n",
    "print(\"Original tokens:\", tokens)\n",
    "print(\"Lemmatized tokens:\", lemmatized_tokens)\n"
   ]
  },
  {
   "cell_type": "code",
   "execution_count": 3,
   "id": "4096cc6d-0717-4589-b9cb-5699096ae37f",
   "metadata": {},
   "outputs": [
    {
     "data": {
      "text/plain": [
       "True"
      ]
     },
     "execution_count": 3,
     "metadata": {},
     "output_type": "execute_result"
    }
   ],
   "source": [
    "import os, os.path\n",
    "path = os.path.expanduser('~/natural_language_toolkit_data')\n",
    "if not os.path.exists(path):\n",
    "   os.mkdir(path)\n",
    "os.path.exists(path)\n"
   ]
  },
  {
   "cell_type": "code",
   "execution_count": 4,
   "id": "6aa69e25-2731-4158-a00d-b54e885d94c0",
   "metadata": {},
   "outputs": [
    {
     "data": {
      "text/plain": [
       "[('Tutorials', 'NN'), ('Point', 'NN')]"
      ]
     },
     "execution_count": 4,
     "metadata": {},
     "output_type": "execute_result"
    }
   ],
   "source": [
    "import nltk\n",
    "from nltk.tag import DefaultTagger\n",
    "exptagger = DefaultTagger('NN')\n",
    "exptagger.tag(['Tutorials','Point'])\n"
   ]
  },
  {
   "cell_type": "code",
   "execution_count": 5,
   "id": "e2ffff70-5f1c-4802-b07e-fc86474c501c",
   "metadata": {},
   "outputs": [
    {
     "data": {
      "text/plain": [
       "[[('Hi', 'NN'), (',', 'NN')],\n",
       " [('How', 'NN'), ('are', 'NN'), ('you', 'NN'), ('?', 'NN')]]"
      ]
     },
     "execution_count": 5,
     "metadata": {},
     "output_type": "execute_result"
    }
   ],
   "source": [
    "from nltk.tag import DefaultTagger\n",
    "exptagger = DefaultTagger('NN')\n",
    "exptagger.tag_sents([['Hi', ','], ['How', 'are', 'you', '?']])\n"
   ]
  },
  {
   "cell_type": "code",
   "execution_count": 6,
   "id": "5390f13b-bf67-425d-a649-7c87f5b72042",
   "metadata": {},
   "outputs": [
    {
     "data": {
      "text/plain": [
       "['Tutorials', 'Point']"
      ]
     },
     "execution_count": 6,
     "metadata": {},
     "output_type": "execute_result"
    }
   ],
   "source": [
    "import nltk\n",
    "from nltk.tag import untag\n",
    "untag([('Tutorials', 'NN'), ('Point', 'NN')])\n"
   ]
  },
  {
   "cell_type": "code",
   "execution_count": null,
   "id": "1499ec52-c58d-48e1-82af-719dce3d4f75",
   "metadata": {},
   "outputs": [],
   "source": []
  }
 ],
 "metadata": {
  "kernelspec": {
   "display_name": "Python 3 (ipykernel)",
   "language": "python",
   "name": "python3"
  },
  "language_info": {
   "codemirror_mode": {
    "name": "ipython",
    "version": 3
   },
   "file_extension": ".py",
   "mimetype": "text/x-python",
   "name": "python",
   "nbconvert_exporter": "python",
   "pygments_lexer": "ipython3",
   "version": "3.11.7"
  }
 },
 "nbformat": 4,
 "nbformat_minor": 5
}
