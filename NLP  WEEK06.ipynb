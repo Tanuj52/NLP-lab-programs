{
 "cells": [
  {
   "cell_type": "code",
   "execution_count": 1,
   "id": "c70ba648-25a4-4958-8fea-e2ebdd4d6a8e",
   "metadata": {},
   "outputs": [
    {
     "name": "stdout",
     "output_type": "stream",
     "text": [
      "['Tokenize', 'this', 'sentence', 'using', 'NLTK', '.']\n"
     ]
    }
   ],
   "source": [
    "from nltk.tokenize import word_tokenize\n",
    "sentence= \"Tokenize this sentence using NLTK.\"\n",
    "tokens=word_tokenize(sentence)\n",
    "print(tokens)"
   ]
  },
  {
   "cell_type": "code",
   "execution_count": 3,
   "id": "9fb62abb-ac6b-4713-b6d9-5b6cb0921e73",
   "metadata": {},
   "outputs": [
    {
     "name": "stdout",
     "output_type": "stream",
     "text": [
      "[('This', 'DT'), ('is', 'VBZ'), ('simple', 'JJ'), ('POS', 'NNP'), ('tagging', 'VBG'), ('example', 'NN'), ('.', '.')]\n"
     ]
    }
   ],
   "source": [
    "import nltk\n",
    "from nltk.tokenize import word_tokenize\n",
    "sentence=\"This is simple POS tagging example.\"\n",
    "tokens=word_tokenize(sentence)\n",
    "tagged=nltk.pos_tag(tokens)\n",
    "print(tagged)\n"
   ]
  },
  {
   "cell_type": "code",
   "execution_count": 4,
   "id": "5a007a22-4bb7-481e-a37f-4ab4062200e5",
   "metadata": {},
   "outputs": [],
   "source": [
    "#NAMED ENTITY RECOGNITION"
   ]
  },
  {
   "cell_type": "code",
   "execution_count": 6,
   "id": "50dbd152-ecab-42a5-9ac1-37a232b5652a",
   "metadata": {},
   "outputs": [
    {
     "name": "stdout",
     "output_type": "stream",
     "text": [
      "(S\n",
      "  (PERSON John/NNP)\n",
      "  works/VBZ\n",
      "  at/IN\n",
      "  (ORGANIZATION Google/NNP)\n",
      "  in/IN\n",
      "  (GPE New/NNP York/NNP City/NNP)\n",
      "  ./.)\n"
     ]
    }
   ],
   "source": [
    "import nltk\n",
    "sentence=\"John works at Google in New York City.\"\n",
    "tokens=nltk.word_tokenize(sentence)\n",
    "tagged=nltk.pos_tag(tokens)\n",
    "entities=nltk.ne_chunk(tagged)\n",
    "print(entities)"
   ]
  },
  {
   "cell_type": "code",
   "execution_count": 7,
   "id": "89c7a2be-2763-40ae-958b-e90923716387",
   "metadata": {},
   "outputs": [],
   "source": [
    "#SENTIMENTAL ANAKLYSIS"
   ]
  },
  {
   "cell_type": "code",
   "execution_count": 10,
   "id": "65952118-12da-448e-972a-66c808678fd9",
   "metadata": {},
   "outputs": [
    {
     "name": "stdout",
     "output_type": "stream",
     "text": [
      "Neutral Sentiment\n"
     ]
    }
   ],
   "source": [
    "from nltk.sentiment.vader import SentimentIntensityAnalyzer\n",
    "sentence=\"This is a good movie.\"\n",
    "analyzer=SentimentIntensityAnalyzer()\n",
    "sentiment_scores=analyzer.polarity_scores(sentence)\n",
    "\n",
    "if sentiment_scores['compound']>=0.5:\n",
    "    print(\"Positive Sentiment\")\n",
    "elif sentiment_scores['compound']<=-0.5:\n",
    "    print(\"Negative Sentiment\")\n",
    "else:\n",
    "    print(\"Neutral Sentiment\")"
   ]
  },
  {
   "cell_type": "code",
   "execution_count": 9,
   "id": "86554f2b-7c92-47ed-8a2a-8d1541cde7c5",
   "metadata": {},
   "outputs": [
    {
     "name": "stderr",
     "output_type": "stream",
     "text": [
      "[nltk_data] Downloading package vader_lexicon to\n",
      "[nltk_data]     C:\\Users\\tkrcet\\AppData\\Roaming\\nltk_data...\n"
     ]
    },
    {
     "data": {
      "text/plain": [
       "True"
      ]
     },
     "execution_count": 9,
     "metadata": {},
     "output_type": "execute_result"
    }
   ],
   "source": [
    "import nltk\n",
    "nltk.download('vader_lexicon')"
   ]
  },
  {
   "cell_type": "code",
   "execution_count": null,
   "id": "60589118-8f05-4773-861c-03148c2ad7f2",
   "metadata": {},
   "outputs": [],
   "source": []
  }
 ],
 "metadata": {
  "kernelspec": {
   "display_name": "Python 3 (ipykernel)",
   "language": "python",
   "name": "python3"
  },
  "language_info": {
   "codemirror_mode": {
    "name": "ipython",
    "version": 3
   },
   "file_extension": ".py",
   "mimetype": "text/x-python",
   "name": "python",
   "nbconvert_exporter": "python",
   "pygments_lexer": "ipython3",
   "version": "3.11.7"
  }
 },
 "nbformat": 4,
 "nbformat_minor": 5
}
